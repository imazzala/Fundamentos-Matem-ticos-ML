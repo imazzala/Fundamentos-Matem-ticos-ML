{
  "nbformat": 4,
  "nbformat_minor": 0,
  "metadata": {
    "colab": {
      "name": "RegresionLogistica.ipynb",
      "provenance": [],
      "collapsed_sections": [],
      "authorship_tag": "ABX9TyMcoOA9R2qY9MGiSr7LyvZ4",
      "include_colab_link": true
    },
    "kernelspec": {
      "name": "python3",
      "display_name": "Python 3"
    }
  },
  "cells": [
    {
      "cell_type": "markdown",
      "metadata": {
        "id": "view-in-github",
        "colab_type": "text"
      },
      "source": [
        "<a href=\"https://colab.research.google.com/github/imazzala/Fundamentos-Matematicos-ML/blob/main/RegresionLogistica.ipynb\" target=\"_parent\"><img src=\"https://colab.research.google.com/assets/colab-badge.svg\" alt=\"Open In Colab\"/></a>"
      ]
    },
    {
      "cell_type": "code",
      "metadata": {
        "id": "0Og3UnSkrjgU"
      },
      "source": [
        "import numpy as np\n",
        "from sklearn.linear_model import LogisticRegression"
      ],
      "execution_count": null,
      "outputs": []
    },
    {
      "cell_type": "code",
      "metadata": {
        "id": "g95oZtHSzWio"
      },
      "source": [
        "#Horas de estudio, lo presentamos en forma de columnas\n",
        "x = np.asarray([0.5, 0.75, 1, 1.25, 1.5, 1.75, 1.75, 2, 2.25, 2.5, 2.75, 3, 3.25, 3.5, 4, 4.25, 4.5,\n",
        "4.75, 5, 5.5]).reshape(-1, 1)\n",
        "#Resultados\n",
        "y = np.array([0, 0, 0, 0, 0, 0, 1, 0, 1, 0, 1, 0, 1, 0, 1, 1, 1, 1, 1, 1])"
      ],
      "execution_count": null,
      "outputs": []
    },
    {
      "cell_type": "code",
      "metadata": {
        "colab": {
          "base_uri": "https://localhost:8080/"
        },
        "id": "X0XxXL5l0G6a",
        "outputId": "f904eeaa-c23b-4f58-c116-fcfd8d5509d7"
      },
      "source": [
        "#Creacion de una instancia de regresion logistica\n",
        "regresion_logistica = LogisticRegression()\n",
        "\n",
        "#Entrenamiento\n",
        "regresion_logistica.fit(x,y)\n",
        "\n",
        "#Calculo de predicciones\n",
        "x_nuevo = np.array([ 1, 2, 3, 4, 5, 6]).reshape(-1, 1)\n",
        "prediccion = regresion_logistica.predict(x_nuevo)\n",
        "print(prediccion)\n",
        "\n",
        "#Calculo de probabiliades de las predicciones\n",
        "probabilidades_predicciones = regresion_logistica.predict_proba(x_nuevo)\n",
        "print(probabilidades_predicciones[:,1])"
      ],
      "execution_count": null,
      "outputs": [
        {
          "output_type": "stream",
          "text": [
            "[0 0 1 1 1 1]\n",
            "[0.12015954 0.30104715 0.57597882 0.81075008 0.93108619 0.97706971]\n"
          ],
          "name": "stdout"
        }
      ]
    },
    {
      "cell_type": "code",
      "metadata": {
        "id": "l0nt--fv0QjV"
      },
      "source": [
        ""
      ],
      "execution_count": null,
      "outputs": []
    }
  ]
}