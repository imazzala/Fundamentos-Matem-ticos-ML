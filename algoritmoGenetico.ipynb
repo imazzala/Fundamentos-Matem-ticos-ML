{
  "nbformat": 4,
  "nbformat_minor": 0,
  "metadata": {
    "colab": {
      "name": "algoritmoGenetico.ipynb",
      "provenance": [],
      "collapsed_sections": [],
      "authorship_tag": "ABX9TyMcYve6wGIM+/By+isLmUA5",
      "include_colab_link": true
    },
    "kernelspec": {
      "name": "python3",
      "display_name": "Python 3"
    }
  },
  "cells": [
    {
      "cell_type": "markdown",
      "metadata": {
        "id": "view-in-github",
        "colab_type": "text"
      },
      "source": [
        "<a href=\"https://colab.research.google.com/github/imazzala/Fundamentos-Matematicos-ML/blob/main/algoritmoGenetico.ipynb\" target=\"_parent\"><img src=\"https://colab.research.google.com/assets/colab-badge.svg\" alt=\"Open In Colab\"/></a>"
      ]
    },
    {
      "cell_type": "code",
      "metadata": {
        "id": "CdVU8i9JyUXK"
      },
      "source": [
        "import random"
      ],
      "execution_count": null,
      "outputs": []
    },
    {
      "cell_type": "code",
      "metadata": {
        "id": "zr-aHi4u0Ea9"
      },
      "source": [
        "#Objetivo, modelo optimo\n",
        "modelo = [1,1,1,1,1,1,1,1,1,1]"
      ],
      "execution_count": null,
      "outputs": []
    },
    {
      "cell_type": "code",
      "metadata": {
        "colab": {
          "base_uri": "https://localhost:8080/"
        },
        "id": "E1NvSDY60Pc7",
        "outputId": "b93ec56c-2dac-47bd-c411-5d9b7313c0ad"
      },
      "source": [
        "#longitud del material genetico de cada individuo\n",
        "largo = 10\n",
        "\n",
        "#Poblacion \n",
        "num = 10\n",
        "\n",
        "#numero de individuos seleccionados para la reproduccion\n",
        "pressure = 3\n",
        "mutation_chance = 0.2\n",
        "\n",
        "print(\"\\n\\Modelo: %s\\n\"%(modelo))\n",
        "\n",
        "#Crea aleatoriamente las caracteristicas (ADN) de cada individuo\n",
        "def individual(min, max):\n",
        "  return [random.randint(min, max) for i in range(largo)]\n",
        "\n",
        "#Genera la poblacion deseada(num)\n",
        "def crearPoblacion():\n",
        "  return [individual(1,9) for i in range(num)]\n",
        "\n",
        "#compara caracteristicas del individuo con su contraparte del modelo y cuenta coincidencias\n",
        "def calcularFitness(individual):\n",
        "  fitness = 0\n",
        "\n",
        "  for i in range(len(individual)):\n",
        "    if individual[i] == modelo[i]:\n",
        "      fitness += 1\n",
        "\n",
        "  return fitness\n",
        "\n",
        "#Reproduccion: por cada elemento restante (pobacion - selected) sucede:\n",
        "#1. se seleccionan dos individuos aleatorios entre los selecciones\n",
        "#2. Se escoge un numero aleatorio (punto) de caracteristicas del primer individuo (principio)\n",
        "#3. Se toman las caracteristicas restantes del segundo individuo (final)\n",
        "#4. Se reemplaza un elemento de la poblacion\n",
        "def selectionAndReproduction(population):\n",
        "\n",
        "  puntuados = [(calcularFitness(i), i) for i in population]\n",
        "  puntuados = [i[1] for i in sorted(puntuados)]\n",
        "  population = puntuados\n",
        "\n",
        "  selected = puntuados[(len(puntuados) - pressure):]\n",
        "\n",
        "  for i in range(len(population) - pressure):\n",
        "    punto = random.randint(1, largo - 1)\n",
        "    padre = random.sample(selected, 2)\n",
        "\n",
        "    population[i][:punto] = padre[0][:punto]\n",
        "    population[i][punto:] = padre[1][punto:]\n",
        "\n",
        "  return population\n",
        "\n",
        "def mutation(population):\n",
        "  for i in range(len(population) - pressure):\n",
        "    \n",
        "    #se escoge de forma aleatoria quien sufre una mutacion\n",
        "    if random.random() <= mutation_chance: \n",
        "      #se escoge de forma aleatoria una posicion de la lista de caracteristicas \n",
        "      punto = random.randint(0, largo -1)\n",
        "      nuevoValor = random.randint(1, 9)\n",
        "\n",
        "      #Si el valor obtenido es igual al valor existente en el punto de mutacion\n",
        "      #se generan nuevos valores aleatorios hasta que cambie\n",
        "      #luego se inserta un nuevo valor \n",
        "      while nuevoValor == population[i][punto]:\n",
        "        nuevoValor = random.randint(1, 9)\n",
        "      \n",
        "      population[i][punto] = nuevoValor\n",
        "\n",
        "  return population\n",
        "  \n",
        "def main():\n",
        "  print('\\n\\Modelo: %s\\n'%(modelo))\n",
        "  population = crearPoblacion()\n",
        "  print(\"Poblacion inicial: \\n%s\"%(population))\n",
        "\n",
        "  for i in range(100):\n",
        "    population = selectionAndReproduction(population)\n",
        "    population = mutation(population)\n",
        "  \n",
        "  print('\\nPoblacion Final:\\n%s'%(population))\n",
        "  print('\\n\\n')\n",
        "\n",
        "if __name__== '__main__':\n",
        "  main()"
      ],
      "execution_count": null,
      "outputs": [
        {
          "output_type": "stream",
          "text": [
            "\n",
            "\\Modelo: [1, 1, 1, 1, 1, 1, 1, 1, 1, 1]\n",
            "\n",
            "\n",
            "\\Modelo: [1, 1, 1, 1, 1, 1, 1, 1, 1, 1]\n",
            "\n",
            "Poblacion inicial: \n",
            "[[1, 5, 6, 1, 8, 3, 9, 2, 8, 5], [6, 2, 8, 3, 7, 8, 3, 7, 2, 9], [5, 4, 5, 2, 3, 4, 9, 1, 4, 8], [4, 4, 8, 7, 4, 7, 4, 7, 1, 4], [3, 8, 2, 4, 6, 1, 1, 7, 2, 3], [5, 1, 6, 1, 3, 5, 1, 6, 5, 9], [8, 6, 6, 2, 1, 2, 2, 7, 5, 1], [6, 6, 8, 7, 9, 3, 7, 2, 4, 7], [5, 8, 3, 5, 7, 9, 2, 6, 6, 2], [9, 2, 2, 6, 2, 5, 4, 7, 5, 4]]\n",
            "\n",
            "Poblacion Final:\n",
            "[[1, 1, 1, 1, 1, 1, 1, 9, 5, 1], [1, 1, 1, 1, 1, 1, 1, 9, 1, 1], [1, 1, 1, 1, 1, 1, 1, 9, 1, 1], [1, 1, 1, 1, 1, 3, 1, 9, 1, 1], [1, 1, 1, 1, 1, 1, 1, 9, 1, 1], [1, 1, 1, 1, 1, 1, 1, 9, 1, 1], [9, 1, 1, 1, 1, 1, 1, 9, 1, 1], [1, 1, 1, 1, 1, 1, 1, 9, 1, 1], [1, 1, 1, 1, 1, 1, 1, 9, 1, 1], [1, 1, 1, 1, 1, 1, 1, 9, 1, 1]]\n",
            "\n",
            "\n",
            "\n"
          ],
          "name": "stdout"
        }
      ]
    },
    {
      "cell_type": "code",
      "metadata": {
        "id": "GI12ikZKdJCc"
      },
      "source": [
        ""
      ],
      "execution_count": null,
      "outputs": []
    }
  ]
}